{
 "cells": [
  {
   "cell_type": "code",
   "execution_count": 1,
   "id": "bc7368ae-8dca-4e9a-a02d-9d235ea4ef94",
   "metadata": {},
   "outputs": [],
   "source": [
    "import cv2 as cv\n",
    "import numpy as np"
   ]
  },
  {
   "cell_type": "code",
   "execution_count": 9,
   "id": "4136df1f-2392-4fe7-b3e1-fb4dc3ede184",
   "metadata": {},
   "outputs": [],
   "source": [
    "drawing = False\n",
    "ix = -1\n",
    "iy = -1\n",
    "img_scale = 1 # default is 1 i.e. original size, require change to fit template in screen\n",
    "point1 = []\n",
    "point2 = []\n",
    "myPoints = {}\n",
    "alpha=0.4"
   ]
  },
  {
   "cell_type": "code",
   "execution_count": 3,
   "id": "ca2770c6-2b93-4b15-9b6a-90617e4555fa",
   "metadata": {},
   "outputs": [],
   "source": [
    "# Adding Function Attached To Mouse Callback\n",
    "def draw(event,x,y,flags,params):\n",
    "    global ix,iy,drawing,img_scale,point1,point2,myPoints\n",
    "    # Left Mouse Button Down Pressed\n",
    "    if event == cv.EVENT_LBUTTONDOWN:\n",
    "        drawing = True\n",
    "        ix = x\n",
    "        iy = y\n",
    "        point1 = int(x//img_scale), int(y//img_scale)\n",
    "    elif event == cv.EVENT_MOUSEMOVE:\n",
    "        if drawing == True:\n",
    "            cv.rectangle(overlay, (ix, iy), (x, y), (255,99,71), -1)\n",
    "            cv.addWeighted(overlay, alpha, output, 1 - alpha, 0, output)\n",
    "    elif event == cv.EVENT_LBUTTONUP:\n",
    "        drawing = False\n",
    "        cv.rectangle(overlay, (ix, iy), (x, y), (255,99,71), -1)\n",
    "        cv.addWeighted(overlay, alpha, output, 1 - alpha, 0, output)\n",
    "        point2 = int(x//img_scale), int(y//img_scale)\n",
    "        name = input('Enter Name')\n",
    "        myPoints[name] = list(sum([point1, point2], ()))"
   ]
  },
  {
   "cell_type": "code",
   "execution_count": 12,
   "id": "3aa98e1c-b2d8-40e9-8c13-e546ec55c015",
   "metadata": {},
   "outputs": [],
   "source": [
    "mytemplate = cv.imread('template.jpeg')\n",
    "mytemplate = cv.resize(mytemplate, (0, 0), None, img_scale, img_scale)\n",
    "\n",
    "overlay = mytemplate.copy()\n",
    "output = mytemplate.copy()"
   ]
  },
  {
   "cell_type": "code",
   "execution_count": 5,
   "id": "6611670b-fc3d-4530-bdf5-b7c0f41c3391",
   "metadata": {},
   "outputs": [],
   "source": [
    "#define the screen resulation\n",
    "screen_res = 1920, 1080\n",
    "scale_width = screen_res[0] / mytemplate.shape[1]\n",
    "scale_height = screen_res[1] / mytemplate.shape[0]\n",
    "scale = min(scale_width, scale_height)\n",
    "\n",
    "window_width = int(mytemplate.shape[1] * scale)\n",
    "window_height = int(mytemplate.shape[0] * scale)"
   ]
  },
  {
   "cell_type": "code",
   "execution_count": 13,
   "id": "8afed59f-d66c-4dc6-8904-25064f351a3e",
   "metadata": {},
   "outputs": [
    {
     "name": "stdin",
     "output_type": "stream",
     "text": [
      "Enter Name Name\n",
      "Enter Name Roll\n",
      "Enter Name Course\n",
      "Enter Name Sem\n"
     ]
    }
   ],
   "source": [
    "cv.namedWindow('Image', cv.WINDOW_NORMAL)\n",
    "cv.resizeWindow('Image', window_width, window_height)\n",
    "\n",
    "# Draw a rectangle by pressing left mouse\n",
    "# Complete by releasing left mouse\n",
    "cv.setMouseCallback(\"Image\", draw)\n",
    "while True:\n",
    "    cv.imshow(\"Image\", output)\n",
    "    if cv.waitKey(1) & 0xFF == 27:\n",
    "        break\n",
    "        \n",
    "cv.destroyAllWindows()"
   ]
  },
  {
   "cell_type": "markdown",
   "id": "3061b1ce-95fc-4434-8674-36d2170cdc59",
   "metadata": {},
   "source": [
    "### Copy the MyPoints Variable and send as Raw *JSON*"
   ]
  },
  {
   "cell_type": "code",
   "execution_count": 14,
   "id": "6e41c231-0de8-46cd-ab8b-2bc6b39a5d18",
   "metadata": {},
   "outputs": [
    {
     "data": {
      "text/plain": [
       "{'Name': [170, 275, 283, 290],\n",
       " 'Roll': [171, 323, 243, 337],\n",
       " 'Course': [171, 337, 365, 369],\n",
       " 'Sem': [446, 334, 487, 354]}"
      ]
     },
     "execution_count": 14,
     "metadata": {},
     "output_type": "execute_result"
    }
   ],
   "source": [
    "myPoints"
   ]
  }
 ],
 "metadata": {
  "kernelspec": {
   "display_name": "Python 3",
   "language": "python",
   "name": "python3"
  },
  "language_info": {
   "codemirror_mode": {
    "name": "ipython",
    "version": 3
   },
   "file_extension": ".py",
   "mimetype": "text/x-python",
   "name": "python",
   "nbconvert_exporter": "python",
   "pygments_lexer": "ipython3",
   "version": "3.8.10"
  }
 },
 "nbformat": 4,
 "nbformat_minor": 5
}
